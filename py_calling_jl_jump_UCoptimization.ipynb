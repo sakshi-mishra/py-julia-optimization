{
 "cells": [
  {
   "cell_type": "code",
   "execution_count": 2,
   "metadata": {},
   "outputs": [],
   "source": [
    "import julia\n",
    "import julia.Base\n",
    "from julia import Main"
   ]
  },
  {
   "cell_type": "markdown",
   "metadata": {},
   "source": [
    "This tutorial uses *_Economic Dispatch_* example from:\n",
    "http://www.juliaopt.org/notebooks/Dvorkin%20-%20Power%20systems%20-%20Economic%20dispatch%20and%20Unit%20commitment.html\n",
    "\n",
    "The constant values are declared in python, passed on to Julia code,\n",
    "then the actual optimization code written in ED1.jl file is called.\n",
    "The results are obtained in the tuple (g_opt,w_opt,ws_opt,obj) and printed.\n"
   ]
  },
  {
   "cell_type": "code",
   "execution_count": 5,
   "metadata": {},
   "outputs": [
    {
     "ename": "ImportError",
     "evalue": "Julia exception: LoadError(\"/home/reopt/Documents/optimization_learnings/py-julia-optimization/UC1.jl\", 9, LoadError(\"<macrocall>\", 0, ErrorException(\"in @objective: needs three arguments: model, objective sense (Max or Min) and expression.\")))",
     "output_type": "error",
     "traceback": [
      "\u001b[0;31m---------------------------------------------------------------------------\u001b[0m",
      "\u001b[0;31mImportError\u001b[0m                               Traceback (most recent call last)",
      "\u001b[0;32m<ipython-input-5-c20865b31bdc>\u001b[0m in \u001b[0;36m<module>\u001b[0;34m()\u001b[0m\n\u001b[1;32m      1\u001b[0m \u001b[0mj\u001b[0m \u001b[0;34m=\u001b[0m \u001b[0mjulia\u001b[0m\u001b[0;34m.\u001b[0m\u001b[0mJulia\u001b[0m\u001b[0;34m(\u001b[0m\u001b[0;34m)\u001b[0m\u001b[0;34m\u001b[0m\u001b[0m\n\u001b[0;32m----> 2\u001b[0;31m \u001b[0mj\u001b[0m\u001b[0;34m.\u001b[0m\u001b[0minclude\u001b[0m\u001b[0;34m(\u001b[0m\u001b[0;34m\"UC1.jl\"\u001b[0m\u001b[0;34m)\u001b[0m\u001b[0;34m\u001b[0m\u001b[0m\n\u001b[0m",
      "\u001b[0;31mImportError\u001b[0m: Julia exception: LoadError(\"/home/reopt/Documents/optimization_learnings/py-julia-optimization/UC1.jl\", 9, LoadError(\"<macrocall>\", 0, ErrorException(\"in @objective: needs three arguments: model, objective sense (Max or Min) and expression.\")))"
     ]
    }
   ],
   "source": [
    "j = julia.Julia()\n",
    "j.include(\"UC1.jl\")"
   ]
  },
  {
   "cell_type": "code",
   "execution_count": 3,
   "metadata": {},
   "outputs": [],
   "source": [
    "Main.g_max = [1000,1000];\n",
    "# Minimum power output of generators\n",
    "Main.g_min = [0,300];\n",
    "# Incremental cost of generators \n",
    "Main.c_g = [50,100];\n",
    "# Fixed cost of generators\n",
    "Main.c_g0 = [1000,0]\n",
    "# Incremental cost of wind generators\n",
    "Main.c_w = 50;\n",
    "# Total demand\n",
    "Main.d = 1500;\n",
    "# Wind forecast\n",
    "Main.w_f = 200;"
   ]
  },
  {
   "cell_type": "code",
   "execution_count": 4,
   "metadata": {},
   "outputs": [],
   "source": [
    "(g_opt,w_opt,ws_opt,u_opt,obj)= j.eval(\"solve_ed(g_max, g_min, c_g, c_g0, c_w, d, w_f)\")"
   ]
  },
  {
   "cell_type": "code",
   "execution_count": null,
   "metadata": {},
   "outputs": [],
   "source": [
    "print(\"\\n\")\n",
    "print(\"Dispatch of Generators: \", g_opt[:], \" MW\")\n",
    "print(\"Commitments of Generators: \", u_opt[:])\n",
    "print(\"Dispatch of Wind: \", w_opt, \" MW\")\n",
    "print(\"Wind spillage: \", w_f-w_opt, \" MW\") \n",
    "print(\"\\n\")\n",
    "print(\"Total cost: \", obj, \"\\$\")"
   ]
  }
 ],
 "metadata": {
  "kernelspec": {
   "display_name": "reo_jump",
   "language": "python",
   "name": "reo_jump"
  },
  "language_info": {
   "codemirror_mode": {
    "name": "ipython",
    "version": 2
   },
   "file_extension": ".py",
   "mimetype": "text/x-python",
   "name": "python",
   "nbconvert_exporter": "python",
   "pygments_lexer": "ipython2",
   "version": "2.7.15"
  }
 },
 "nbformat": 4,
 "nbformat_minor": 2
}
