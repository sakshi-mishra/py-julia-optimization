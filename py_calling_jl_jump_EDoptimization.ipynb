{
 "cells": [
  {
   "cell_type": "code",
   "execution_count": 1,
   "metadata": {},
   "outputs": [],
   "source": [
    "import julia\n",
    "import julia.Base\n",
    "from julia import Main"
   ]
  },
  {
   "cell_type": "markdown",
   "metadata": {},
   "source": [
    "This tutorial uses *_Economic Dispatch_* example from:\n",
    "http://www.juliaopt.org/notebooks/Dvorkin%20-%20Power%20systems%20-%20Economic%20dispatch%20and%20Unit%20commitment.html\n",
    "\n",
    "The constant values are declared in python, passed on to Julia code,\n",
    "then the actual optimization code written in ED1.jl file is called.\n",
    "The results are obtained in the tuple (g_opt,w_opt,ws_opt,obj) and printed.\n"
   ]
  },
  {
   "cell_type": "code",
   "execution_count": 2,
   "metadata": {},
   "outputs": [
    {
     "data": {
      "text/plain": [
       "<PyCall.jlwrap solve_ed>"
      ]
     },
     "execution_count": 2,
     "metadata": {},
     "output_type": "execute_result"
    }
   ],
   "source": [
    "j = julia.Julia()\n",
    "j.include(\"ED1.jl\")"
   ]
  },
  {
   "cell_type": "code",
   "execution_count": 3,
   "metadata": {},
   "outputs": [],
   "source": [
    "Main.g_max = [1000,1000];\n",
    "# Minimum power output of generators\n",
    "Main.g_min = [0,300];\n",
    "# Incremental cost of generators \n",
    "Main.c_g = [50,100];\n",
    "# Fixed cost of generators\n",
    "Main.c_g0 = [1000,0]\n",
    "# Incremental cost of wind generators\n",
    "Main.c_w = 50;\n",
    "# Total demand\n",
    "Main.d = 1500;\n",
    "# Wind forecast\n",
    "Main.w_f = 200;"
   ]
  },
  {
   "cell_type": "code",
   "execution_count": 4,
   "metadata": {},
   "outputs": [],
   "source": [
    "(g_opt,w_opt,ws_opt,obj)= j.eval(\"solve_ed(g_max, g_min, c_g, c_g0, c_w, d, w_f)\")"
   ]
  },
  {
   "cell_type": "code",
   "execution_count": 5,
   "metadata": {},
   "outputs": [
    {
     "name": "stdout",
     "output_type": "stream",
     "text": [
      "\n",
      "\n",
      "('Dispatch of Generators: ', array([300.]), ' MW')\n",
      "('Dispatch of Wind: ', 200.0, ' MW')\n",
      "('Wind spillage: ', 0.0, ' MW')\n",
      "\n",
      "\n",
      "('Total cost: ', 90000.0, '$')\n"
     ]
    }
   ],
   "source": [
    "print(\"\\n\")\n",
    "print(\"Dispatch of Generators: \", g_opt[1:2], \" MW\")\n",
    "print(\"Dispatch of Wind: \", w_opt, \" MW\")\n",
    "print(\"Wind spillage: \", Main.w_f-w_opt, \" MW\") \n",
    "print(\"\\n\")\n",
    "print(\"Total cost: \", obj, \"$\")"
   ]
  },
  {
   "cell_type": "code",
   "execution_count": null,
   "metadata": {},
   "outputs": [],
   "source": []
  }
 ],
 "metadata": {
  "kernelspec": {
   "display_name": "reo_jump",
   "language": "python",
   "name": "reo_jump"
  },
  "language_info": {
   "codemirror_mode": {
    "name": "ipython",
    "version": 2
   },
   "file_extension": ".py",
   "mimetype": "text/x-python",
   "name": "python",
   "nbconvert_exporter": "python",
   "pygments_lexer": "ipython2",
   "version": "2.7.15"
  }
 },
 "nbformat": 4,
 "nbformat_minor": 2
}
